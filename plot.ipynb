{
 "cells": [
  {
   "cell_type": "code",
   "execution_count": 31,
   "metadata": {},
   "outputs": [
    {
     "data": {
      "image/png": "[encoded data removed]",
      "text/plain": [
       "<Figure size 432x288 with 1 Axes>"
      ]
     },
     "metadata": {
      "needs_background": "light"
     },
     "output_type": "display_data"
    }
   ],
   "source": [
    "import matplotlib.pyplot as plt\n",
    "from matplotlib.ticker import MultipleLocator, FormatStrFormatter\n",
    "\n",
    "def rec(d,x,y):\n",
    "    plt.plot([y-1,y+d-1,y+d-1,y-1,y-1],[1-x,1-x,1-x-d,1-x-d,1-x])\n",
    "\n",
    "s = open('out.txt').read().split()\n",
    "\n",
    "for i in range(int(s[0])):\n",
    "    rec(int(s[3*i+1]),int(s[3*i+2]),int(s[3*i+3]))\n",
    "\n",
    "rec(26,1,1)\n",
    "\n",
    "ax = plt.gca()\n",
    "ax.xaxis.set_major_locator(MultipleLocator(5))\n",
    "ax.yaxis.set_major_locator(MultipleLocator(5))\n",
    "ax.xaxis.set_minor_locator(MultipleLocator(1))\n",
    "ax.yaxis.set_minor_locator(MultipleLocator(1))\n",
    "plt.grid(which='both')\n",
    "plt.axis('scaled')\n",
    "plt.show()"
   ]
  }
 ],
 "metadata": {
  "kernelspec": {
   "display_name": "Python 3.7.10 ('seven')",
   "language": "python",
   "name": "python3"
  },
  "language_info": {
   "codemirror_mode": {
    "name": "ipython",
    "version": 3
   },
   "file_extension": ".py",
   "mimetype": "text/x-python",
   "name": "python",
   "nbconvert_exporter": "python",
   "pygments_lexer": "ipython3",
   "version": "3.7.13"
  },
  "orig_nbformat": 4,
  "vscode": {
   "interpreter": {
    "hash": "eca1f05a56e2466dc47b43cc3c263dc8286945c134af064bafcd7a0b8df48531"
   }
  }
 },
 "nbformat": 4,
 "nbformat_minor": 2
}
